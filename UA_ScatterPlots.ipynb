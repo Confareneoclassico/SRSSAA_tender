{
 "cells": [
  {
   "cell_type": "code",
   "execution_count": 1,
   "metadata": {},
   "outputs": [],
   "source": [
    "import pandas as pd\n",
    "import numpy as np\n",
    "import matplotlib.pyplot as plt\n",
    "%matplotlib inline"
   ]
  },
  {
   "cell_type": "markdown",
   "metadata": {},
   "source": [
    "After installing all the required packages, the information is retrieved from the file which contains the model"
   ]
  },
  {
   "cell_type": "code",
   "execution_count": 2,
   "metadata": {},
   "outputs": [],
   "source": [
    "#retrieve the data\n",
    "ranNum = pd.read_excel('C:/Users/Samuele/Dropbox/ECGC_Barcelona/1.Projects/02-JRC/Work/iTFA/MODEL_TRANS_v35.xlsm', sheetname = 'Random_numbers')\n",
    "ranNum500 = ranNum[0:500]\n",
    "ranNum500 = ranNum500.rename(columns={'Indirect cost of PostAcute MI \"young\"': 'Indirect cost of PostAcute MI_young',\\\n",
    "'Indirect cost of PostAcute MI \"old\"': 'Indirect cost of PostAcute MI_old'})\n",
    "\n",
    "E021 = pd.read_excel('C:/Users/Samuele/Dropbox/ECGC_Barcelona/1.Projects/02-JRC/Work/iTFA/MODEL_TRANS_v35.xlsm', \\\n",
    "sheetname = 'SimulationScn1', skiprows = 5)\n",
    "E045 = pd.read_excel('C:/Users/Samuele/Dropbox/ECGC_Barcelona/1.Projects/02-JRC/Work/iTFA/MODEL_TRANS_v35.xlsm', \\\n",
    "sheetname = 'SimulationScn1', skiprows = 5)\n",
    "E070 = pd.read_excel('C:/Users/Samuele/Dropbox/ECGC_Barcelona/1.Projects/02-JRC/Work/iTFA/MODEL_TRANS_v35.xlsm', \\\n",
    "sheetname = 'SimulationScn1', skiprows = 5)"
   ]
  },
  {
   "cell_type": "markdown",
   "metadata": {},
   "source": [
    "The worksheets are then polished for our use"
   ]
  },
  {
   "cell_type": "code",
   "execution_count": 3,
   "metadata": {},
   "outputs": [],
   "source": [
    "E021['Trial']=E021.index\n",
    "del E021['Trial']\n",
    "E021b = E021[E021.columns[0:8]]\n",
    "E021c = E021b[0:500]\n",
    "E021c.columns = ['BanCosts', 'BanDALYs', 'VolCosts', 'VolDALYs', 'ManCosts', 'ManDALYs', 'CurCosts', 'CurDALYs']\n",
    "E045['Trial']=E045.index\n",
    "del E045['Trial']\n",
    "E045b = E045[E045.columns[0:8]]\n",
    "E045c = E045b[0:500]\n",
    "E045c.columns = ['BanCosts', 'BanDALYs', 'VolCosts', 'VolDALYs', 'ManCosts', 'ManDALYs', 'CurCosts', 'CurDALYs']\n",
    "E070['Trial']=E070.index\n",
    "del E070['Trial']\n",
    "E070b = E070[E070.columns[0:8]]\n",
    "E070c = E070b[0:500]\n",
    "E070c.columns = ['BanCosts', 'BanDALYs', 'VolCosts', 'VolDALYs', 'ManCosts', 'ManDALYs', 'CurCosts', 'CurDALYs']"
   ]
  },
  {
   "cell_type": "markdown",
   "metadata": {},
   "source": [
    "A dictionary is finally created to easily loop over the dataframes developed"
   ]
  },
  {
   "cell_type": "code",
   "execution_count": 4,
   "metadata": {},
   "outputs": [],
   "source": [
    "Intake = {\"E%021\": E021c, \"E%045\": E045c, \"E%070\": E070c}"
   ]
  },
  {
   "cell_type": "markdown",
   "metadata": {},
   "source": [
    "The uncertainty analysis is performed through a series of scatter plots which convey the required information to make the decision on relevant parameters"
   ]
  },
  {
   "cell_type": "code",
   "execution_count": null,
   "metadata": {},
   "outputs": [],
   "source": [
    "for key, E in Intake.items():\n",
    "    for c1 in E:\n",
    "        for c in ranNum500.columns:\n",
    "            x_vals = ranNum500[ranNum500.columns][c]\n",
    "            \n",
    "            y1 = E[c1]\n",
    "            \n",
    "            plt.scatter(x_vals, y1)\n",
    "            plt.title(x_vals.name + ' ' + key + ' ' + y1.name)\n",
    "            plt.savefig(str(x_vals.name) + ' ' + str(key) + ' ' + str(y1.name)+\".png\", format=\"PNG\")\n",
    "            plt.close()"
   ]
  }
 ],
 "metadata": {
  "kernelspec": {
   "display_name": "Python 3",
   "language": "python",
   "name": "python3"
  },
  "language_info": {
   "codemirror_mode": {
    "name": "ipython",
    "version": 3
   },
   "file_extension": ".py",
   "mimetype": "text/x-python",
   "name": "python",
   "nbconvert_exporter": "python",
   "pygments_lexer": "ipython3",
   "version": "3.6.3"
  }
 },
 "nbformat": 4,
 "nbformat_minor": 2
}
