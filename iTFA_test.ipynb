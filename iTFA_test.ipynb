{
 "cells": [
  {
   "cell_type": "code",
   "execution_count": 6,
   "metadata": {},
   "outputs": [],
   "source": [
    "import pandas as pd\n",
    "import numpy as np\n",
    "import matplotlib.pyplot as plt\n",
    "import chaospy as cp\n",
    "import random\n",
    "from scipy import stats\n",
    "%matplotlib inline"
   ]
  },
  {
   "cell_type": "code",
   "execution_count": 5,
   "metadata": {},
   "outputs": [
    {
     "name": "stdout",
     "output_type": "stream",
     "text": [
      "Collecting chaospy\n",
      "  Downloading chaospy-2.2.3-py2.py3-none-any.whl (223kB)\n",
      "Requirement already satisfied: scipy in c:\\users\\andrea\\anaconda3\\lib\\site-packages (from chaospy)\n",
      "Requirement already satisfied: networkx in c:\\users\\andrea\\anaconda3\\lib\\site-packages (from chaospy)\n",
      "Requirement already satisfied: numpy in c:\\users\\andrea\\anaconda3\\lib\\site-packages (from chaospy)\n",
      "Requirement already satisfied: decorator>=3.4.0 in c:\\users\\andrea\\anaconda3\\lib\\site-packages (from networkx->chaospy)\n",
      "Installing collected packages: chaospy\n",
      "Successfully installed chaospy-2.2.3\n"
     ]
    }
   ],
   "source": [
    "!pip install chaospy"
   ]
  },
  {
   "cell_type": "code",
   "execution_count": 8,
   "metadata": {},
   "outputs": [],
   "source": [
    "# Define a distribution for the iTFA intake\n",
    "iTFA_intake = cp.Truncnorm(0, 5.00, 0.20, 0.06)"
   ]
  },
  {
   "cell_type": "code",
   "execution_count": 44,
   "metadata": {},
   "outputs": [],
   "source": [
    "distributioniTFA_intake = iTFA_intake.sample(10000, rule=\"S\")\n",
    "np.random.shuffle(distributioniTFA_intake)"
   ]
  },
  {
   "cell_type": "code",
   "execution_count": 45,
   "metadata": {},
   "outputs": [],
   "source": [
    "seriesiTFA_intake = pd.Series(distributioniTFA_intake)\n",
    "dfiTFA_intake = pd.DataFrame(seriesiTFA_intake, columns = ['iTFA'])"
   ]
  },
  {
   "cell_type": "code",
   "execution_count": 46,
   "metadata": {},
   "outputs": [],
   "source": [
    "# Export the project to an .xls spreadsheet\n",
    "writer = pd.ExcelWriter('C:/Users/Andrea/Dropbox/ECGC_Barcelona/1.Projects/02-JRC/Work/test.xlsx')\n",
    "dfiTFA_intake.to_excel(writer,'test')\n",
    "writer.save()"
   ]
  },
  {
   "cell_type": "code",
   "execution_count": null,
   "metadata": {
    "collapsed": true
   },
   "outputs": [],
   "source": []
  }
 ],
 "metadata": {
  "kernelspec": {
   "display_name": "Python 3",
   "language": "python",
   "name": "python3"
  },
  "language_info": {
   "codemirror_mode": {
    "name": "ipython",
    "version": 3
   },
   "file_extension": ".py",
   "mimetype": "text/x-python",
   "name": "python",
   "nbconvert_exporter": "python",
   "pygments_lexer": "ipython3",
   "version": "3.6.1"
  }
 },
 "nbformat": 4,
 "nbformat_minor": 2
}
