{
 "cells": [
  {
   "cell_type": "code",
   "execution_count": 38,
   "metadata": {},
   "outputs": [],
   "source": [
    "import pandas as pd\n",
    "import numpy as np\n",
    "import matplotlib.pyplot as plt\n",
    "import chaospy as cp\n",
    "import random\n",
    "from scipy import stats\n",
    "%matplotlib inline\n",
    "\n",
    "df = pd.read_excel('C:/Users/Andrea/Dropbox/ECGC_Barcelona/1.Projects/02-JRC/Work/iTFA best estimate_corrected_20062017.xlsx',\\\n",
    "sheetname='Sheet3', parse_cols = 'A:LY', header=None, index_col=0)\n",
    "df.columns=pd.MultiIndex.from_arrays(df[:3].values, names=['Country','Sex','Item'])\n",
    "df2 = df[3:20]\n",
    "df3 = df2.T\n",
    "df4 = df3.sort_index()\n",
    "\n",
    "iTFA_F = df4.loc[(slice(None),slice('F'), ['iTFA_int']),:]\n",
    "iTFA_Fd = iTFA_F.reset_index(level=2, drop=True)\n",
    "iTFA_M = df4.loc[(slice(None),slice('M'), ['iTFA_int']),:]\n",
    "iTFA_Md = iTFA_M.reset_index(level=2, drop=True)\n",
    "STD_iTFA_F = df4.loc[(slice(None),slice('F'), ['STD_iTFA']),:]\n",
    "STD_iTFA_Fd = STD_iTFA_F.reset_index(level=2, drop=True)\n",
    "STD_iTFA_M = df4.loc[(slice(None),slice('M'), ['STD_iTFA']),:]\n",
    "STD_iTFA_Md = STD_iTFA_M.reset_index(level=2, drop=True)\n",
    "df26 = df4.loc[(slice(None),slice('F'), ['Population']),:]\n",
    "df26d = df26.reset_index(level=2, drop=True)\n",
    "df27 = df4.loc[(slice(None),slice('M'), ['Population']),:]\n",
    "df27d = df27.reset_index(level=2, drop=True)\n",
    "iTFA_Fw = df26d*iTFA_Fd/(df26d.sum(axis = 0)*iTFA_Fd/iTFA_Fd)\n",
    "iTFA_Fw['Item']='iTFA_int'\n",
    "iTFA_Fw.set_index('Item', append=True, inplace=True)\n",
    "iTFA_Mw = df27d*iTFA_Md/(df27d.sum(axis = 0)*iTFA_Md/iTFA_Md)\n",
    "iTFA_Mw['Item']='iTFA_int'\n",
    "iTFA_Mw.set_index('Item', append=True, inplace=True)\n",
    "STD_iTFA_Fw = df26d*STD_iTFA_Fd/(df26d.sum(axis = 0)*STD_iTFA_Fd/STD_iTFA_Fd)\n",
    "STD_iTFA_Fw['Item']='STD_iTFA'\n",
    "STD_iTFA_Fw.set_index('Item', append=True, inplace=True)\n",
    "STD_iTFA_Mw = df27d*STD_iTFA_Md/(df27d.sum(axis = 0)*STD_iTFA_Md/STD_iTFA_Md)\n",
    "STD_iTFA_Mw['Item']='STD_iTFA'\n",
    "STD_iTFA_Mw.set_index('Item', append=True, inplace=True)\n",
    "iTFA_Fwm = df4.loc[(slice(None),slice('F'), ['iTFA_int']),:].fillna(iTFA_Fw.sum())\n",
    "iTFA_Mwm = df4.loc[(slice(None),slice('M'), ['iTFA_int']),:].fillna(iTFA_Mw.sum())\n",
    "STD_iTFA_Fwm = df4.loc[(slice(None),slice('F'), ['STD_iTFA']),:].fillna(STD_iTFA_Fw.sum())\n",
    "STD_iTFA_Mwm = df4.loc[(slice(None),slice('M'), ['STD_iTFA']),:].fillna(STD_iTFA_Mw.sum())\n",
    "\n",
    "iTFA_Fwm2= iTFA_Fwm.mean()\n",
    "iTFA_Fwm2 = iTFA_Fwm2.to_frame('F_iTFA_intake')\n",
    "iTFA_Mwm2 = iTFA_Mwm.mean()\n",
    "iTFA_Mwm2 = iTFA_Mwm2.to_frame('M_iTFA_intake')\n",
    "STD_iTFA_Fwm2 =STD_iTFA_Fwm.mean()\n",
    "STD_iTFA_Fwm2 = STD_iTFA_Fwm2.to_frame('F_STD_iTFA_intake')\n",
    "STD_iTFA_Mwm2=STD_iTFA_Mwm.mean()\n",
    "STD_iTFA_Mwm2 = STD_iTFA_Mwm2.to_frame('M_STD_iTFA_intake')\n",
    "frameA = (iTFA_Fwm2.T, iTFA_Mwm2.T, STD_iTFA_Fwm2.T, STD_iTFA_Mwm2.T)\n",
    "Avg = pd.concat(frameA)\n",
    "Avgr = Avg.round(2)\n",
    "Avgr\n",
    "\n",
    "WAvrg=(sum(Avgr.loc['F_iTFA_intake'] * df26d.sum(axis=0)/sum(df26d.sum(axis=0))), \\\n",
    "sum(Avgr.loc['M_iTFA_intake'] * df27d.sum(axis=0)/sum(df27d.sum(axis=0))))\n",
    "Wstd=(sum(Avgr.loc['F_STD_iTFA_intake'] * df26d.sum(axis=0)/sum(df26d.sum(axis=0))), \\\n",
    "sum(Avgr.loc['M_STD_iTFA_intake'] * df27d.sum(axis=0)/sum(df27d.sum(axis=0))))\n",
    "set = (np.mean(WAvrg).round(2), np.mean(Wstd).round(2))\n",
    "Weighted = pd.Series(data = set, index = ('iTFA_intake', 'STD_iTFA_intake'))\n",
    "\n",
    "writer = pd.ExcelWriter('C:/Users/Andrea/Dropbox/ECGC_Barcelona/1.Projects/02-JRC/Work/test2.xlsx')\n",
    "Weighted.to_excel(writer,'weighted')\n",
    "writer.save()"
   ]
  },
  {
   "cell_type": "code",
   "execution_count": 36,
   "metadata": {},
   "outputs": [
    {
     "data": {
      "text/plain": [
       "0    0.20\n",
       "1    0.07\n",
       "dtype: float64"
      ]
     },
     "execution_count": 36,
     "metadata": {},
     "output_type": "execute_result"
    }
   ],
   "source": [
    "Weighted"
   ]
  },
  {
   "cell_type": "code",
   "execution_count": 26,
   "metadata": {},
   "outputs": [],
   "source": [
    "WAvrg=(sum(Avgr.loc['F_iTFA_intake'] * df26d.sum(axis=0)/sum(df26d.sum(axis=0))), \\\n",
    "sum(Avgr.loc['M_iTFA_intake'] * df27d.sum(axis=0)/sum(df27d.sum(axis=0))))\n",
    "Wstd=(sum(Avgr.loc['F_STD_iTFA_intake'] * df26d.sum(axis=0)/sum(df26d.sum(axis=0))), \\\n",
    "sum(Avgr.loc['M_STD_iTFA_intake'] * df27d.sum(axis=0)/sum(df27d.sum(axis=0))))"
   ]
  },
  {
   "cell_type": "code",
   "execution_count": 29,
   "metadata": {},
   "outputs": [],
   "source": [
    "set = (np.mean(WAvrg).round(2), np.mean(Wstd).round(2)) "
   ]
  },
  {
   "cell_type": "code",
   "execution_count": 30,
   "metadata": {},
   "outputs": [
    {
     "data": {
      "text/plain": [
       "(0.20000000000000001, 0.070000000000000007)"
      ]
     },
     "execution_count": 30,
     "metadata": {},
     "output_type": "execute_result"
    }
   ],
   "source": [
    "set"
   ]
  },
  {
   "cell_type": "code",
   "execution_count": null,
   "metadata": {
    "collapsed": true
   },
   "outputs": [],
   "source": []
  }
 ],
 "metadata": {
  "kernelspec": {
   "display_name": "Python 3",
   "language": "python",
   "name": "python3"
  },
  "language_info": {
   "codemirror_mode": {
    "name": "ipython",
    "version": 3
   },
   "file_extension": ".py",
   "mimetype": "text/x-python",
   "name": "python",
   "nbconvert_exporter": "python",
   "pygments_lexer": "ipython3",
   "version": "3.6.1"
  }
 },
 "nbformat": 4,
 "nbformat_minor": 2
}
