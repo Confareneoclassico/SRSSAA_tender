import pandas as pd
import numpy as np
import matplotlib.pyplot as plt
import chaospy as cp
import random
from scipy import stats
%matplotlib inline

df = pd.read_excel('C:/Users/Samuele/Dropbox/ECGC_Barcelona/1.Projects/02-JRC/Work/iTFA best estimate_corrected_31072017.xlsx',\
sheetname='Sheet3', parse_cols = 'A:LY', header=None, index_col=0)
df.columns=pd.MultiIndex.from_arrays(df[:3].values, names=['Country','Sex','Item'])
df2 = df[3:20]
df3 = df2.T
df4 = df3.sort_index()

iTFA_F = df4.loc[(slice(None),slice('F'), ['iTFA_int']),:]
iTFA_Fd = iTFA_F.reset_index(level=2, drop=True)
iTFA_M = df4.loc[(slice(None),slice('M'), ['iTFA_int']),:]
iTFA_Md = iTFA_M.reset_index(level=2, drop=True)
STD_iTFA_F = df4.loc[(slice(None),slice('F'), ['STD_iTFA']),:]
STD_iTFA_Fd = STD_iTFA_F.reset_index(level=2, drop=True)
STD_iTFA_M = df4.loc[(slice(None),slice('M'), ['STD_iTFA']),:]
STD_iTFA_Md = STD_iTFA_M.reset_index(level=2, drop=True)
df26 = df4.loc[(slice(None),slice('F'), ['Population']),:]
df26d = df26.reset_index(level=2, drop=True)
df27 = df4.loc[(slice(None),slice('M'), ['Population']),:]
df27d = df27.reset_index(level=2, drop=True)
iTFA_Fw = df26d*iTFA_Fd/(df26d.sum(axis = 0)*iTFA_Fd/iTFA_Fd)
iTFA_Fw['Item']='iTFA_int'
iTFA_Fw.set_index('Item', append=True, inplace=True)
iTFA_Mw = df27d*iTFA_Md/(df27d.sum(axis = 0)*iTFA_Md/iTFA_Md)
iTFA_Mw['Item']='iTFA_int'
iTFA_Mw.set_index('Item', append=True, inplace=True)
STD_iTFA_Fw = df26d*STD_iTFA_Fd/(df26d.sum(axis = 0)*STD_iTFA_Fd/STD_iTFA_Fd)
STD_iTFA_Fw['Item']='STD_iTFA'
STD_iTFA_Fw.set_index('Item', append=True, inplace=True)
STD_iTFA_Mw = df27d*STD_iTFA_Md/(df27d.sum(axis = 0)*STD_iTFA_Md/STD_iTFA_Md)
STD_iTFA_Mw['Item']='STD_iTFA'
STD_iTFA_Mw.set_index('Item', append=True, inplace=True)
iTFA_Fwm = df4.loc[(slice(None),slice('F'), ['iTFA_int']),:].fillna(iTFA_Fw.sum())
iTFA_Mwm = df4.loc[(slice(None),slice('M'), ['iTFA_int']),:].fillna(iTFA_Mw.sum())
STD_iTFA_Fwm = df4.loc[(slice(None),slice('F'), ['STD_iTFA']),:].fillna(STD_iTFA_Fw.sum())
STD_iTFA_Mwm = df4.loc[(slice(None),slice('M'), ['STD_iTFA']),:].fillna(STD_iTFA_Mw.sum())

iTFA_Fwm2= iTFA_Fwm.mean()
iTFA_Fwm2 = iTFA_Fwm2.to_frame('F_iTFA_intake')
iTFA_Mwm2 = iTFA_Mwm.mean()
iTFA_Mwm2 = iTFA_Mwm2.to_frame('M_iTFA_intake')
STD_iTFA_Fwm2 =STD_iTFA_Fwm.mean()
STD_iTFA_Fwm2 = STD_iTFA_Fwm2.to_frame('F_STD_iTFA_intake')
STD_iTFA_Mwm2=STD_iTFA_Mwm.mean()
STD_iTFA_Mwm2 = STD_iTFA_Mwm2.to_frame('M_STD_iTFA_intake')
frameA = (iTFA_Fwm2.T, iTFA_Mwm2.T, STD_iTFA_Fwm2.T, STD_iTFA_Mwm2.T)
Avg = pd.concat(frameA)
Avgr = Avg.round(2)
Avgr

writer = pd.ExcelWriter('C:/Users/Samuele/Dropbox/ECGC_Barcelona/1.Projects/02-JRC/Work/iTFA best estimate_corrected_31072017.xlsx')
Avgr.to_excel(writer,'average_only_iTFA')
writer.save()
